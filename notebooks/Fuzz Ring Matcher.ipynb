{
 "cells": [
  {
   "cell_type": "code",
   "execution_count": 1,
   "metadata": {},
   "outputs": [
    {
     "name": "stdout",
     "output_type": "stream",
     "text": [
      "Populating the interactive namespace from numpy and matplotlib\n"
     ]
    },
    {
     "name": "stderr",
     "output_type": "stream",
     "text": [
      "/usgs/apps/anaconda/envs/autocnet/lib/python3.6/site-packages/h5py/__init__.py:36: FutureWarning: Conversion of the second argument of issubdtype from `float` to `np.floating` is deprecated. In future, it will be treated as `np.float64 == np.dtype(float).type`.\n",
      "  from ._conv import register_converters as _register_converters\n"
     ]
    }
   ],
   "source": [
    "import sys\n",
    "import os\n",
    "\n",
    "sys.path.insert(0, os.path.abspath('/home/cneubauer/repos/plio_master/plio'))\n",
    "sys.path.insert(0, os.path.abspath('/home/cneubauer/repos/autocnet_server'))\n",
    "sys.path.insert(0, os.path.abspath('/home/cneubauer/repos/autocnet_dev/autocnet'))\n",
    "\n",
    "os.environ['autocnet_config'] = '/home/cneubauer/autocnet_projects/demo.yml'\n",
    "\n",
    "%pylab inline\n",
    "from autocnet_server.graph.graph import NetworkCandidateGraph\n"
   ]
  },
  {
   "cell_type": "code",
   "execution_count": 2,
   "metadata": {},
   "outputs": [
    {
     "data": {
      "text/plain": [
       "13"
      ]
     },
     "execution_count": 2,
     "metadata": {},
     "output_type": "execute_result"
    }
   ],
   "source": [
    "# Setup\n",
    "# Create the candidate graph\n",
    "ncg = NetworkCandidateGraph.from_database()\n",
    "\n",
    "ncg.apply('project_keypoints', on='node')"
   ]
  },
  {
   "cell_type": "code",
   "execution_count": 4,
   "metadata": {},
   "outputs": [
    {
     "ename": "AttributeError",
     "evalue": "'NetworkCandidateGraph' object has no attribute 'matches'",
     "output_type": "error",
     "traceback": [
      "\u001b[0;31m---------------------------------------------------------------------------\u001b[0m",
      "\u001b[0;31mAttributeError\u001b[0m                            Traceback (most recent call last)",
      "\u001b[0;32m<ipython-input-4-42a5f5f3f9bb>\u001b[0m in \u001b[0;36m<module>\u001b[0;34m()\u001b[0m\n\u001b[1;32m      4\u001b[0m \u001b[0;31m# The printed integer is the number of nodes/edges that the algorithm is applied to\u001b[0m\u001b[0;34m\u001b[0m\u001b[0;34m\u001b[0m\u001b[0m\n\u001b[1;32m      5\u001b[0m \u001b[0;34m\u001b[0m\u001b[0m\n\u001b[0;32m----> 6\u001b[0;31m \u001b[0mbaseline\u001b[0m \u001b[0;34m=\u001b[0m \u001b[0mncg\u001b[0m\u001b[0;34m.\u001b[0m\u001b[0mmatches\u001b[0m\u001b[0;34m(\u001b[0m\u001b[0;34m)\u001b[0m\u001b[0;34m\u001b[0m\u001b[0m\n\u001b[0m\u001b[1;32m      7\u001b[0m \u001b[0;32mdel\u001b[0m\u001b[0;34m(\u001b[0m\u001b[0mncg\u001b[0m\u001b[0;34m.\u001b[0m\u001b[0mmatches\u001b[0m\u001b[0;34m)\u001b[0m\u001b[0;34m\u001b[0m\u001b[0m\n",
      "\u001b[0;31mAttributeError\u001b[0m: 'NetworkCandidateGraph' object has no attribute 'matches'"
     ]
    }
   ],
   "source": [
    "# Example function use as baseline\n",
    "\n",
    "ncg.apply('ring_match', on='edge', ring_radius=30, max_radius=300, target_points=25, tolerance_val=0.1)\n",
    "# The printed integer is the number of nodes/edges that the algorithm is applied to\n",
    "\n",
    "baseline = ncg.matches()\n",
    "del(ncg.matches())\n"
   ]
  },
  {
   "cell_type": "raw",
   "metadata": {},
   "source": [
    "import pandas as pd\n",
    "import numpy as np\n",
    "\n",
    "# sanity check with comparison method \n",
    "# should only be ran to test if the way we are comparing works and that the deleter is functioning properly\n",
    "\n",
    "ncg.apply('ring_match', on='edge', ring_radius=30, max_radius=300, target_points=25, tolerance_val=0.1)\n",
    "# The printed integer is the number of nodes/edges that the algorithm is applied to\n",
    "\n",
    "baseline = ncg.matches\n",
    "del(ncg.matches)\n",
    "\n",
    "ncg.apply('ring_match', on='edge', ring_radius=30, max_radius=300, target_points=25, tolerance_val=0.1)\n",
    "# The printed integer is the number of nodes/edges that the algorithm is applied to\n",
    "\n",
    "matches = ncg.matches\n",
    "del(ncg.matches)\n",
    "\n",
    "intersection = pd.merge( baseline, matches, how='inner', on=['source_idx', 'destination_idx'])\n",
    "intersection.dropna(inplace=True)\n",
    "matches_count = len(matches.index)\n",
    "intersection_count = len(intersection.index)\n",
    "difference = 1 - ( intersection_count / matches_count )\n",
    "\n",
    "assert(difference == 0)"
   ]
  },
  {
   "cell_type": "code",
   "execution_count": null,
   "metadata": {
    "collapsed": true
   },
   "outputs": [],
   "source": [
    "import pandas as pd\n",
    "import numpy as np\n",
    "\n",
    "# fuzz the ring_radius decrement first. This can be purely iterative because it is locked in between 30 and 0\n",
    "\n",
    "# define a thresh hold that for differences to be interesting enough to look at more\n",
    "# arbitrary pick @ 10%\n",
    "thresh = .10\n",
    "interesting_radius = []\n",
    "data_dir = '/home/cneubauer/data/ring_matcher/'\n",
    "\n",
    "for radius in range(30, 0, -1):\n",
    "    ncg.apply('ring_match', on='edge', ring_radius=radius, max_radius=300, target_points=25, tolerance_val=0.1)\n",
    "    matches = ncg.matches\n",
    "    # get an intersection to calculate differences\n",
    "    intersection = pd.merge( baseline, matches, how='inner', on=['source_idx', 'destination_idx'])\n",
    "    intersection.dropna(inplace=True)\n",
    "    matches_count = len(matches.index)\n",
    "    intersection_count = len(intersection.index)\n",
    "    difference = 1 - ( intersection_count / matches_count )\n",
    "    \n",
    "    if ( difference >= thresh ):\n",
    "        # write out with params so we can get all data with out issue if we fuzz other paramaters as well\n",
    "        interesting_radius.append( radius )\n",
    "        matches.to_csv( data_dir + 'interesting_matches/matches_with_r_{}_maxr_{}_tp_{}tv_{}'.format(radius, 300, 25, 0.1) )\n",
    "        del(ncg.matches)\n",
    "\n",
    "# output radii that led to interesting outputs        \n",
    "np.savetxt(\"radii_list.csv\", np.asarray(interesting_radius), delimiter=\",\")\n"
   ]
  },
  {
   "cell_type": "code",
   "execution_count": null,
   "metadata": {
    "collapsed": true
   },
   "outputs": [],
   "source": []
  }
 ],
 "metadata": {
  "kernelspec": {
   "display_name": "autocnet",
   "language": "python",
   "name": "autocnet"
  },
  "language_info": {
   "codemirror_mode": {
    "name": "ipython",
    "version": 3
   },
   "file_extension": ".py",
   "mimetype": "text/x-python",
   "name": "python",
   "nbconvert_exporter": "python",
   "pygments_lexer": "ipython3",
   "version": "3.6.4"
  }
 },
 "nbformat": 4,
 "nbformat_minor": 2
}
