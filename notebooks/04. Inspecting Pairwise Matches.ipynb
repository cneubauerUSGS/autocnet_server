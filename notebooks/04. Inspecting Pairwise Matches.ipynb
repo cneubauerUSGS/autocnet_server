{
 "cells": [
  {
   "cell_type": "code",
   "execution_count": null,
   "metadata": {
    "collapsed": true,
    "scrolled": true
   },
   "outputs": [],
   "source": [
    "import os\n",
    "os.environ['autocnet_config'] = '/home/cneubauer/autocnet_projects/demo.yml'\n",
    "%pylab inline\n",
    "from autocnet_server.graph.graph import NetworkCandidateGraph"
   ]
  },
  {
   "cell_type": "code",
   "execution_count": null,
   "metadata": {
    "collapsed": true
   },
   "outputs": [],
   "source": [
    "ncg = NetworkCandidateGraph.from_database()"
   ]
  },
  {
   "cell_type": "markdown",
   "metadata": {},
   "source": [
    "#### Grabbing a Single Edge\n",
    "\n",
    "Below a single edge is extracted from the graph. It is possible to grab any edge from the graph using the syntax `edges[(source, destination)]`."
   ]
  },
  {
   "cell_type": "code",
   "execution_count": null,
   "metadata": {
    "collapsed": true
   },
   "outputs": [],
   "source": [
    "edge = ncg.edges[(1,6)]['data']"
   ]
  },
  {
   "cell_type": "markdown",
   "metadata": {},
   "source": [
    "#### Plotting Matches\n",
    "The method called below is syntax sugar to visualize all of the matches on a given edge. You can safely ignore the warning about too many figures being displayed (assuming that < 50 matches exist).  \n",
    "\n",
    "You will notice that the matches are close, but definitely not great."
   ]
  },
  {
   "cell_type": "code",
   "execution_count": null,
   "metadata": {
    "collapsed": true,
    "scrolled": false
   },
   "outputs": [],
   "source": [
    "edge.plot_matches()"
   ]
  },
  {
   "cell_type": "markdown",
   "metadata": {},
   "source": [
    "#### Custom Plotting\n",
    "Below is an example of how to go about doing plotting with some more custom code."
   ]
  },
  {
   "cell_type": "code",
   "execution_count": null,
   "metadata": {
    "collapsed": true,
    "scrolled": false
   },
   "outputs": [],
   "source": [
    "matches = edge.matches\n",
    "a = edge.source.geodata\n",
    "b = edge.destination.geodata\n",
    "extent=400\n",
    "for i, (idx, row) in enumerate(matches.iterrows()):   \n",
    "    fig, axes = plt.subplots(1, 2)     \n",
    "    sx = row.source_x\n",
    "    sy = row.source_y\n",
    "    dx = row.destination_x\n",
    "    dy = row.destination_y\n",
    "\n",
    "    suba = a.read_array(pixels=[int(sx-extent), int(sy-extent), int(2*extent), int(2*extent)])\n",
    "    subb = b.read_array(pixels=[int(dx-extent), int(dy-extent), int(2*extent), int(2*extent)])\n",
    "\n",
    "    axes[0].imshow(suba, cmap='Greys')\n",
    "    axes[1].imshow(subb, cmap='Greys')\n",
    "    show()\n"
   ]
  },
  {
   "cell_type": "markdown",
   "metadata": {},
   "source": [
    "#### Plotting match distributions"
   ]
  },
  {
   "cell_type": "code",
   "execution_count": null,
   "metadata": {
    "collapsed": true
   },
   "outputs": [],
   "source": [
    "plot(matches['destination_x'], matches['destination_y'], 'ro')"
   ]
  },
  {
   "cell_type": "code",
   "execution_count": null,
   "metadata": {
    "collapsed": true
   },
   "outputs": [],
   "source": [
    "plot(matches['source_x'], matches['source_y'], 'ro')"
   ]
  },
  {
   "cell_type": "code",
   "execution_count": null,
   "metadata": {
    "collapsed": true
   },
   "outputs": [],
   "source": []
  }
 ],
 "metadata": {
  "kernelspec": {
   "display_name": "autocnet",
   "language": "python",
   "name": "autocnet"
  },
  "language_info": {
   "codemirror_mode": {
    "name": "ipython",
    "version": 3
   },
   "file_extension": ".py",
   "mimetype": "text/x-python",
   "name": "python",
   "nbconvert_exporter": "python",
   "pygments_lexer": "ipython3",
   "version": "3.6.4"
  }
 },
 "nbformat": 4,
 "nbformat_minor": 2
}
